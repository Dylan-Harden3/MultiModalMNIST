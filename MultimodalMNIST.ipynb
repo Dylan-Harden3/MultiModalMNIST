{
  "nbformat": 4,
  "nbformat_minor": 0,
  "metadata": {
    "colab": {
      "provenance": [],
      "machine_shape": "hm",
      "gpuType": "T4"
    },
    "kernelspec": {
      "name": "python3",
      "display_name": "Python 3"
    },
    "language_info": {
      "name": "python"
    },
    "accelerator": "GPU"
  },
  "cells": [
    {
      "cell_type": "code",
      "source": [
        "!pip install -q kaggle"
      ],
      "metadata": {
        "id": "Xa7BownGJs1X"
      },
      "execution_count": null,
      "outputs": []
    },
    {
      "cell_type": "code",
      "source": [
        "from google.colab import files\n",
        "files.upload()"
      ],
      "metadata": {
        "id": "5UhpHSy0JvE2"
      },
      "execution_count": null,
      "outputs": []
    },
    {
      "cell_type": "code",
      "source": [
        "!mkdir ~/.kaggle\n",
        "!cp kaggle.json ~/.kaggle/\n",
        "!chmod 600 ~/.kaggle/kaggle.json"
      ],
      "metadata": {
        "id": "CVeOHNecK0xK"
      },
      "execution_count": null,
      "outputs": []
    },
    {
      "cell_type": "code",
      "execution_count": null,
      "metadata": {
        "colab": {
          "base_uri": "https://localhost:8080/"
        },
        "id": "GrNNvwmzJLYh",
        "outputId": "f96cef20-eca2-45d0-f129-8abd731894f7"
      },
      "outputs": [
        {
          "output_type": "stream",
          "name": "stdout",
          "text": [
            "Downloading sp24-tamu-csce-633-600-machine-learning.zip to /content\n",
            "100% 274M/274M [00:15<00:00, 22.4MB/s]\n",
            "100% 274M/274M [00:15<00:00, 19.0MB/s]\n"
          ]
        }
      ],
      "source": [
        "!kaggle competitions download -c sp24-tamu-csce-633-600-machine-learning --force"
      ]
    },
    {
      "cell_type": "code",
      "source": [
        "import zipfile\n",
        "zip_ref = zipfile.ZipFile('sp24-tamu-csce-633-600-machine-learning.zip', 'r')\n",
        "zip_ref.extractall('/content')\n",
        "zip_ref.close()"
      ],
      "metadata": {
        "id": "i_bXKpp4LdOy"
      },
      "execution_count": null,
      "outputs": []
    },
    {
      "cell_type": "code",
      "source": [
        "import numpy as np\n",
        "import pandas as pd\n",
        "import torch\n",
        "from torch.utils.data import DataLoader, Dataset, random_split\n",
        "\n",
        "class IMGDataset(Dataset):\n",
        "    def __init__(self, X_path, Y_path):\n",
        "        self.X = torch.tensor(np.load(X_path), dtype=torch.float32)\n",
        "        self.Y = torch.tensor(pd.read_csv(Y_path)['label'].values)\n",
        "\n",
        "    def __len__(self):\n",
        "        return len(self.Y)\n",
        "\n",
        "    def __getitem__(self, ix):\n",
        "        image = self.X[ix].view((1, 28, 28))\n",
        "        label = self.Y[ix]\n",
        "        return image, label\n",
        "\n",
        "\n",
        "X_TR_PATH = 'x_train_wr.npy'\n",
        "Y_TR_PATH = 'y_train.csv'\n",
        "\n",
        "img_dataset = IMGDataset(X_TR_PATH, Y_TR_PATH)\n",
        "img_batch_size = 256"
      ],
      "metadata": {
        "id": "-tp0uWavNNib"
      },
      "execution_count": null,
      "outputs": []
    },
    {
      "cell_type": "code",
      "source": [
        "class Loader():\n",
        "  def __init__(self, dataset, batch_size, val_size):\n",
        "    val_samples   = int(len(dataset)* val_size)\n",
        "    train_samples = len(dataset) - val_samples\n",
        "\n",
        "    self.dataset  = dataset\n",
        "    self.train_dataset, self.val_dataset = random_split(self.dataset, [train_samples, val_samples])\n",
        "\n",
        "    self.val_dataset.transform = False\n",
        "\n",
        "    self.train_loader = DataLoader(self.train_dataset, batch_size=batch_size)\n",
        "    self.val_loader   = DataLoader(self.val_dataset, batch_size=batch_size)\n",
        "    self.batch_size   = batch_size"
      ],
      "metadata": {
        "id": "xIN6LEx7aBBj"
      },
      "execution_count": null,
      "outputs": []
    },
    {
      "cell_type": "code",
      "source": [
        "img_loader = Loader(img_dataset, batch_size=img_batch_size, val_size=0.2)"
      ],
      "metadata": {
        "id": "mMQMXmbHaQte"
      },
      "execution_count": null,
      "outputs": []
    },
    {
      "cell_type": "code",
      "source": [
        "from collections import defaultdict\n",
        "\n",
        "digitixs = defaultdict(list)\n",
        "\n",
        "for i in range(len(img_loader.dataset)):\n",
        "  img, label = img_loader.dataset[i]\n",
        "  digitixs[label.item()].append(i)"
      ],
      "metadata": {
        "id": "n_b44o3aOsfN"
      },
      "execution_count": null,
      "outputs": []
    },
    {
      "cell_type": "code",
      "source": [
        "import random\n",
        "import matplotlib.pyplot as plt\n",
        "from torchvision import transforms\n",
        "\n",
        "img_transform = transforms.Compose([\n",
        "            transforms.RandomAffine(degrees=10, translate=(0.1, 0.1), scale=(0.95, 1.05)),\n",
        "            transforms.ToPILImage(),\n",
        "            transforms.ToTensor()\n",
        "        ])\n",
        "\n",
        "plt.figure(figsize=(15, 3))\n",
        "for digit in range(10):\n",
        "  sampleix = random.choice(digitixs[digit])\n",
        "  plt.subplot(1, 10, digit+1)\n",
        "  plt.imshow(img_transform(img_loader.dataset[sampleix][0].view((1, 28, 28))).view((28, 28, 1)), cmap='gray')\n",
        "plt.show()"
      ],
      "metadata": {
        "colab": {
          "base_uri": "https://localhost:8080/",
          "height": 150
        },
        "id": "_N5OUPYPOw3x",
        "outputId": "0fb073af-d39a-4dea-f5ab-2315c02115f0"
      },
      "execution_count": null,
      "outputs": [
        {
          "output_type": "display_data",
          "data": {
            "text/plain": [
              "<Figure size 1500x300 with 10 Axes>"
            ],
            "image/png": "[encoded data removed]"
          },
          "metadata": {}
        }
      ]
    },
    {
      "cell_type": "code",
      "source": [
        "plt.bar(range(10), [len(digitixs[digit]) for digit in range(10)])\n",
        "plt.xticks(range(10))\n",
        "plt.show()"
      ],
      "metadata": {
        "colab": {
          "base_uri": "https://localhost:8080/",
          "height": 431
        },
        "id": "ETGKt_hmO0Pg",
        "outputId": "e5b15ca8-14d6-43b2-8899-76c7b38980b6"
      },
      "execution_count": null,
      "outputs": [
        {
          "output_type": "display_data",
          "data": {
            "text/plain": [
              "<Figure size 640x480 with 1 Axes>"
            ],
            "image/png": "[encoded data removed]"
          },
          "metadata": {}
        }
      ]
    },
    {
      "cell_type": "code",
      "source": [
        "import torch\n",
        "device = torch.device(\"cuda\" if torch.cuda.is_available() else \"cpu\")\n",
        "print(\"Device: \", device)"
      ],
      "metadata": {
        "colab": {
          "base_uri": "https://localhost:8080/"
        },
        "id": "dqSZN3YUOjmk",
        "outputId": "8414e536-d57d-4cb5-afa4-6c0689219485"
      },
      "execution_count": null,
      "outputs": [
        {
          "output_type": "stream",
          "name": "stdout",
          "text": [
            "Device:  cuda\n"
          ]
        }
      ]
    },
    {
      "cell_type": "code",
      "source": [
        "from torch import nn\n",
        "import torch.nn.functional as F\n",
        "\n",
        "class CNN(nn.Module):\n",
        "  def __init__(self, filter_size=4, dropout=0.1):\n",
        "    super(CNN, self).__init__()\n",
        "    self.convblock1 = nn.Sequential(\n",
        "      nn.Conv2d(1, 16, filter_size, 1),\n",
        "      nn.ReLU(),\n",
        "      nn.Dropout(dropout),\n",
        "      nn.MaxPool2d(2, 1)\n",
        "    )\n",
        "    self.convblock2 = nn.Sequential(\n",
        "      nn.Conv2d(16, 32, filter_size, 1),\n",
        "      nn.ReLU(),\n",
        "      nn.Dropout(dropout),\n",
        "      nn.MaxPool2d(2, 1)\n",
        "    )\n",
        "    self.convblock3 = nn.Sequential(\n",
        "      nn.Conv2d(32, 64, filter_size, 1),\n",
        "      nn.ReLU(),\n",
        "      nn.Dropout(dropout),\n",
        "      nn.MaxPool2d(2, 1)\n",
        "    )\n",
        "\n",
        "  def forward(self, x):\n",
        "    x = self.convblock1(x)\n",
        "    x = self.convblock2(x)\n",
        "    x = self.convblock3(x)\n",
        "    return x\n",
        "\n",
        "  def flatten_dim(self):\n",
        "    x = self.convblock1(torch.randn(1, 1, 28, 28))\n",
        "    x = self.convblock2(x)\n",
        "    x = self.convblock3(x)\n",
        "    return x.view(-1).size(0)"
      ],
      "metadata": {
        "id": "d7vTwENWO3AB"
      },
      "execution_count": null,
      "outputs": []
    },
    {
      "cell_type": "code",
      "source": [
        "import torch.nn as nn\n",
        "class AudioNet(nn.Module):\n",
        "  def __init__(self, input_size, hidden_size):\n",
        "    super(AudioNet, self).__init__()\n",
        "    self.LSTM = nn.LSTM(input_size=input_size, hidden_size=hidden_size, batch_first=True)\n",
        "\n",
        "  def forward(self, x):\n",
        "    x, _ = self.LSTM(x)\n",
        "    return x"
      ],
      "metadata": {
        "id": "3XNahPWf9Nq7"
      },
      "execution_count": null,
      "outputs": []
    },
    {
      "cell_type": "code",
      "source": [
        "class AudioDataset(Dataset):\n",
        "  def __init__(self, X_path, Y_path):\n",
        "    self.X = torch.tensor(np.load(X_path), dtype=torch.float32)\n",
        "    self.Y = torch.tensor(pd.read_csv(Y_path)['label'].values)\n",
        "\n",
        "  def __len__(self):\n",
        "    return len(self.Y)\n",
        "\n",
        "  def __getitem__(self, ix):\n",
        "    audio = self.X[ix]\n",
        "    label = self.Y[ix]\n",
        "    return audio, label\n"
      ],
      "metadata": {
        "id": "YgQ-YB8P-8fK"
      },
      "execution_count": null,
      "outputs": []
    },
    {
      "cell_type": "code",
      "source": [
        "audio_loader = Loader(AudioDataset('x_train_sp.npy', 'y_train.csv'), batch_size=256, val_size=0.2)"
      ],
      "metadata": {
        "id": "mkFYDSXW8zif"
      },
      "execution_count": null,
      "outputs": []
    },
    {
      "cell_type": "code",
      "source": [
        "class MultiNet(nn.Module):\n",
        "  def __init__(self, lstm_hidden_size=64, cnn_dropout=0.1, cnn_filter_size=4, embed_size=256, dense_size=512, dense_dropout=0.5):\n",
        "    super(MultiNet, self).__init__()\n",
        "\n",
        "    self.audionet = AudioNet(input_size=507, hidden_size=lstm_hidden_size)\n",
        "    self.imgnet = CNN(dropout=cnn_dropout, filter_size=cnn_filter_size)\n",
        "\n",
        "    self.audioembed = nn.Linear(lstm_hidden_size, embed_size)\n",
        "    self.imgembed = nn.Linear(self.imgnet.flatten_dim(), embed_size)\n",
        "    self.dense1 = nn.Sequential(\n",
        "      nn.Linear(embed_size * 2, dense_size),\n",
        "      nn.ReLU(),\n",
        "      nn.Dropout(dense_dropout)\n",
        "    )\n",
        "    self.densefinal = nn.Sequential(\n",
        "      nn.Linear(dense_size, 10)\n",
        "    )\n",
        "\n",
        "  def forward(self, audio, img):\n",
        "    audio = self.audionet(audio)\n",
        "    img = self.imgnet(img)\n",
        "\n",
        "    audio = self.audioembed(audio.view((audio.shape[0], -1)))\n",
        "    img = self.imgembed(img.view((img.shape[0], -1)))\n",
        "    combined = torch.cat((audio, img), dim=1)\n",
        "    combined = self.dense1(combined)\n",
        "    dense = self.densefinal(combined)\n",
        "    return dense\n"
      ],
      "metadata": {
        "id": "dJ5eS7TCASz1"
      },
      "execution_count": null,
      "outputs": []
    },
    {
      "cell_type": "code",
      "source": [
        "from torchvision import transforms\n",
        "\n",
        "class MultiDataset(Dataset):\n",
        "  def __init__(self, audio_path, img_path, Y_path):\n",
        "    self.audio = torch.tensor(np.load(audio_path), dtype=torch.float32)\n",
        "    self.img = torch.tensor(np.load(img_path), dtype=torch.float32)\n",
        "    self.Y = torch.tensor(pd.read_csv(Y_path)['label'].values)\n",
        "    self.img_transform = transforms.Compose([\n",
        "            transforms.RandomAffine(degrees=5, translate=(0.025, 0.025), scale=(0.975, 1.025)),\n",
        "            transforms.ToPILImage(),\n",
        "            transforms.ToTensor()\n",
        "        ])\n",
        "    self.transform = True\n",
        "\n",
        "  def __len__(self):\n",
        "    return len(self.Y)\n",
        "\n",
        "  def __getitem__(self, ix):\n",
        "    audio = self.audio[ix]\n",
        "    img = self.img[ix].view((1, 28, 28))\n",
        "    label = self.Y[ix]\n",
        "    return audio, img, label"
      ],
      "metadata": {
        "id": "8bINN1A_D4Ho"
      },
      "execution_count": null,
      "outputs": []
    },
    {
      "cell_type": "code",
      "source": [
        "multi_loader = Loader(MultiDataset('x_train_sp.npy', 'x_train_wr.npy', 'y_train.csv'), batch_size=256, val_size=0.2)"
      ],
      "metadata": {
        "id": "zbU0LBRVENED"
      },
      "execution_count": null,
      "outputs": []
    },
    {
      "cell_type": "code",
      "source": [
        "import torch.nn.functional as F\n",
        "\n",
        "def train(model, optimizer, loader, stats=False):\n",
        "  best_val_loss = 1e9\n",
        "  counter = 0\n",
        "  val_loss_cum = []\n",
        "  for epoch in range(100000):\n",
        "    model.train(True)\n",
        "    train_epoch_loss = 0\n",
        "    for i, (audio, images, labels) in enumerate(loader.train_loader):\n",
        "      audio, images, labels = audio.to(device), images.to(device), labels.to(device)\n",
        "\n",
        "      optimizer.zero_grad()\n",
        "      preds = model(audio, images)\n",
        "\n",
        "      loss = F.cross_entropy(preds, labels)\n",
        "      loss.backward()\n",
        "\n",
        "      optimizer.step()\n",
        "      train_epoch_loss += loss.item()\n",
        "\n",
        "    model.eval()\n",
        "    correct = 0\n",
        "    with torch.no_grad():\n",
        "      val_epoch_loss = 0\n",
        "      for i, (audio, images, labels) in enumerate(loader.val_loader):\n",
        "        audio, images, labels = audio.to(device), images.to(device), labels.to(device)\n",
        "        preds = model(audio, images)\n",
        "        loss = F.cross_entropy(preds, labels)\n",
        "        val_epoch_loss += loss.item()\n",
        "        correct += sum(torch.argmax(preds, dim=1) == labels)\n",
        "    val_loss = val_epoch_loss / int(len(loader.val_loader.dataset) / loader.batch_size)\n",
        "    val_loss_cum.append(val_loss)\n",
        "\n",
        "    accuracy = correct.item() / len(loader.val_loader.dataset)\n",
        "    if stats:\n",
        "      print(f\"epoch {epoch} train loss {train_epoch_loss / int(len(loader.train_loader.dataset) / loader.batch_size):.4f} val loss {val_loss:.4f} val accuracy {accuracy:.4f}\")\n",
        "\n",
        "    if val_loss < best_val_loss:\n",
        "      best_val_loss = val_loss\n",
        "      best_model = model\n",
        "      counter = 0\n",
        "    else:\n",
        "      counter += 1\n",
        "      if counter >= 4:\n",
        "        return best_model, best_val_loss, accuracy\n"
      ],
      "metadata": {
        "id": "-Bb8fNKlERW-"
      },
      "execution_count": null,
      "outputs": []
    },
    {
      "cell_type": "code",
      "source": [
        "best_model, best_val_loss = None, 9e9\n",
        "\n",
        "for lstm_hidden_size in [16, 32, 64, 128]:\n",
        "  for embed_size in [64, 128, 256]:\n",
        "    for dense_size in [256, 512, 1024]:\n",
        "      for dense_dropout in [0.5, 0.6, 0.7]:\n",
        "        for cnn_filter_size in [3, 4, 5]:\n",
        "          for cnn_dropout in [0.1]:\n",
        "            model = MultiNet(lstm_hidden_size=lstm_hidden_size, cnn_filter_size=cnn_filter_size, embed_size=embed_size, dense_size=dense_size, dense_dropout=dense_dropout, cnn_dropout=cnn_dropout).to(device)\n",
        "            for lr in [1e-3, 1e-4, 1e-5]:\n",
        "              optimizer = torch.optim.Adam(model.parameters(), lr=lr)\n",
        "              model, val_loss, accuracy = train(model, optimizer, multi_loader)\n",
        "            print(f\"lstm_hidden_size: {lstm_hidden_size}, embed_size: {embed_size}, dense_size: {dense_size}, dense_dropout: {dense_dropout}, cnn_filter_size: {cnn_filter_size}, cnn_dropout: {cnn_dropout}\")\n",
        "            if val_loss < best_val_loss:\n",
        "              print(f\"New best params: lstm_hidden_size: {lstm_hidden_size}, embed_size: {embed_size}, dense_size: {dense_size}, dense_dropout: {dense_dropout}, cnn_filter_size: {cnn_filter_size}, cnn_dropout: {cnn_dropout}\")\n",
        "              print(f\"val loss {val_loss}\")\n",
        "              best_val_loss = val_loss\n",
        "              best_model = model\n",
        "model = best_model"
      ],
      "metadata": {
        "id": "DeIp0etjdySM"
      },
      "execution_count": null,
      "outputs": []
    },
    {
      "cell_type": "markdown",
      "source": [
        "New best params: lstm_hidden_size: 32, embed_size: 256, dense_size: 512, dense_dropout: 0.5, cnn_filter_size: 4, cnn_dropout: 0.1\n",
        "val loss 0.01975270529447184"
      ],
      "metadata": {
        "id": "0ukXJUOhtJRQ"
      }
    },
    {
      "cell_type": "code",
      "source": [
        "best_model, best_val_loss = None, 9e9\n",
        "for batch_size in [32, 64]:\n",
        "  multi_loader = Loader(MultiDataset('x_train_sp.npy', 'x_train_wr.npy', 'y_train.csv'), batch_size=batch_size, val_size=0.2)\n",
        "  model = MultiNet(lstm_hidden_size=32, cnn_filter_size=4, embed_size=256, dense_size=512, dense_dropout=0.5, cnn_dropout=0.1).to(device)\n",
        "  for lr in [1e-4, 1e-5, 1e-6]:\n",
        "    model, val_loss, accuracy = train(model, torch.optim.Adam(model.parameters(), lr=lr), multi_loader, stats=True)\n",
        "  if val_loss < best_val_loss:\n",
        "    print(f\"New best params: batch_size: {batch_size}\")\n",
        "    print(f\"val loss {val_loss}\")\n",
        "    best_val_loss = val_loss\n",
        "    best_model = model"
      ],
      "metadata": {
        "colab": {
          "base_uri": "https://localhost:8080/"
        },
        "id": "-XwHIbvefK2u",
        "outputId": "749320ee-66eb-4d26-d64a-d45a8c20547b"
      },
      "execution_count": null,
      "outputs": [
        {
          "output_type": "stream",
          "name": "stdout",
          "text": [
            "epoch 0 train loss 0.2610 val loss 0.0859 val accuracy 0.9761\n",
            "epoch 1 train loss 0.0760 val loss 0.0709 val accuracy 0.9795\n",
            "epoch 2 train loss 0.0542 val loss 0.0405 val accuracy 0.9885\n",
            "epoch 3 train loss 0.0414 val loss 0.0343 val accuracy 0.9900\n",
            "epoch 4 train loss 0.0330 val loss 0.0318 val accuracy 0.9903\n",
            "epoch 5 train loss 0.0280 val loss 0.0260 val accuracy 0.9918\n",
            "epoch 6 train loss 0.0227 val loss 0.0280 val accuracy 0.9919\n",
            "epoch 7 train loss 0.0208 val loss 0.0287 val accuracy 0.9906\n",
            "epoch 8 train loss 0.0167 val loss 0.0290 val accuracy 0.9913\n",
            "epoch 9 train loss 0.0155 val loss 0.0310 val accuracy 0.9904\n",
            "epoch 0 train loss 0.0081 val loss 0.0167 val accuracy 0.9944\n",
            "epoch 1 train loss 0.0060 val loss 0.0165 val accuracy 0.9941\n",
            "epoch 2 train loss 0.0051 val loss 0.0160 val accuracy 0.9948\n",
            "epoch 3 train loss 0.0041 val loss 0.0159 val accuracy 0.9948\n",
            "epoch 4 train loss 0.0042 val loss 0.0159 val accuracy 0.9948\n",
            "epoch 5 train loss 0.0036 val loss 0.0161 val accuracy 0.9948\n",
            "epoch 6 train loss 0.0032 val loss 0.0158 val accuracy 0.9951\n",
            "epoch 7 train loss 0.0030 val loss 0.0160 val accuracy 0.9947\n",
            "epoch 8 train loss 0.0034 val loss 0.0167 val accuracy 0.9944\n",
            "epoch 9 train loss 0.0029 val loss 0.0165 val accuracy 0.9948\n",
            "epoch 10 train loss 0.0024 val loss 0.0164 val accuracy 0.9946\n",
            "epoch 0 train loss 0.0022 val loss 0.0159 val accuracy 0.9946\n",
            "epoch 1 train loss 0.0023 val loss 0.0158 val accuracy 0.9945\n",
            "epoch 2 train loss 0.0019 val loss 0.0159 val accuracy 0.9946\n",
            "epoch 3 train loss 0.0022 val loss 0.0157 val accuracy 0.9944\n",
            "epoch 4 train loss 0.0022 val loss 0.0156 val accuracy 0.9945\n",
            "epoch 5 train loss 0.0021 val loss 0.0156 val accuracy 0.9945\n",
            "epoch 6 train loss 0.0020 val loss 0.0155 val accuracy 0.9946\n",
            "epoch 7 train loss 0.0021 val loss 0.0157 val accuracy 0.9945\n",
            "epoch 8 train loss 0.0019 val loss 0.0157 val accuracy 0.9946\n",
            "epoch 9 train loss 0.0021 val loss 0.0157 val accuracy 0.9945\n",
            "epoch 10 train loss 0.0022 val loss 0.0158 val accuracy 0.9945\n",
            "New best params: batch_size: 32\n",
            "val loss 0.01552524260639863\n",
            "epoch 0 train loss 0.3399 val loss 0.1047 val accuracy 0.9738\n",
            "epoch 1 train loss 0.0938 val loss 0.0810 val accuracy 0.9780\n",
            "epoch 2 train loss 0.0670 val loss 0.0576 val accuracy 0.9857\n",
            "epoch 3 train loss 0.0539 val loss 0.0485 val accuracy 0.9884\n",
            "epoch 4 train loss 0.0444 val loss 0.0422 val accuracy 0.9886\n",
            "epoch 5 train loss 0.0367 val loss 0.0366 val accuracy 0.9906\n",
            "epoch 6 train loss 0.0306 val loss 0.0301 val accuracy 0.9920\n",
            "epoch 7 train loss 0.0260 val loss 0.0307 val accuracy 0.9908\n",
            "epoch 8 train loss 0.0232 val loss 0.0269 val accuracy 0.9922\n",
            "epoch 9 train loss 0.0202 val loss 0.0247 val accuracy 0.9929\n",
            "epoch 10 train loss 0.0177 val loss 0.0258 val accuracy 0.9930\n",
            "epoch 11 train loss 0.0150 val loss 0.0261 val accuracy 0.9922\n",
            "epoch 12 train loss 0.0138 val loss 0.0221 val accuracy 0.9938\n",
            "epoch 13 train loss 0.0134 val loss 0.0243 val accuracy 0.9926\n",
            "epoch 14 train loss 0.0119 val loss 0.0232 val accuracy 0.9938\n",
            "epoch 15 train loss 0.0114 val loss 0.0311 val accuracy 0.9900\n",
            "epoch 16 train loss 0.0102 val loss 0.0213 val accuracy 0.9937\n",
            "epoch 17 train loss 0.0084 val loss 0.0227 val accuracy 0.9934\n",
            "epoch 18 train loss 0.0086 val loss 0.0215 val accuracy 0.9938\n",
            "epoch 19 train loss 0.0074 val loss 0.0219 val accuracy 0.9937\n",
            "epoch 20 train loss 0.0074 val loss 0.0197 val accuracy 0.9941\n",
            "epoch 21 train loss 0.0068 val loss 0.0236 val accuracy 0.9934\n",
            "epoch 22 train loss 0.0054 val loss 0.0197 val accuracy 0.9945\n",
            "epoch 23 train loss 0.0060 val loss 0.0230 val accuracy 0.9936\n",
            "epoch 24 train loss 0.0054 val loss 0.0208 val accuracy 0.9940\n",
            "epoch 25 train loss 0.0051 val loss 0.0206 val accuracy 0.9944\n",
            "epoch 26 train loss 0.0043 val loss 0.0233 val accuracy 0.9944\n",
            "epoch 0 train loss 0.0022 val loss 0.0196 val accuracy 0.9948\n",
            "epoch 1 train loss 0.0017 val loss 0.0189 val accuracy 0.9950\n",
            "epoch 2 train loss 0.0012 val loss 0.0193 val accuracy 0.9949\n",
            "epoch 3 train loss 0.0011 val loss 0.0193 val accuracy 0.9950\n",
            "epoch 4 train loss 0.0009 val loss 0.0184 val accuracy 0.9949\n",
            "epoch 5 train loss 0.0007 val loss 0.0189 val accuracy 0.9950\n",
            "epoch 6 train loss 0.0009 val loss 0.0184 val accuracy 0.9952\n",
            "epoch 7 train loss 0.0006 val loss 0.0185 val accuracy 0.9957\n",
            "epoch 8 train loss 0.0008 val loss 0.0185 val accuracy 0.9954\n",
            "epoch 9 train loss 0.0007 val loss 0.0183 val accuracy 0.9953\n",
            "epoch 10 train loss 0.0006 val loss 0.0188 val accuracy 0.9952\n",
            "epoch 11 train loss 0.0005 val loss 0.0185 val accuracy 0.9958\n",
            "epoch 12 train loss 0.0004 val loss 0.0190 val accuracy 0.9952\n",
            "epoch 13 train loss 0.0004 val loss 0.0200 val accuracy 0.9951\n",
            "epoch 0 train loss 0.0004 val loss 0.0194 val accuracy 0.9952\n",
            "epoch 1 train loss 0.0004 val loss 0.0196 val accuracy 0.9952\n",
            "epoch 2 train loss 0.0004 val loss 0.0196 val accuracy 0.9952\n",
            "epoch 3 train loss 0.0003 val loss 0.0194 val accuracy 0.9957\n",
            "epoch 4 train loss 0.0003 val loss 0.0191 val accuracy 0.9957\n",
            "epoch 5 train loss 0.0003 val loss 0.0192 val accuracy 0.9955\n",
            "epoch 6 train loss 0.0004 val loss 0.0191 val accuracy 0.9957\n",
            "epoch 7 train loss 0.0004 val loss 0.0192 val accuracy 0.9956\n",
            "epoch 8 train loss 0.0003 val loss 0.0194 val accuracy 0.9952\n"
          ]
        }
      ]
    },
    {
      "cell_type": "code",
      "source": [
        "import numpy as np\n",
        "audio = torch.tensor(np.load('x_test_sp.npy'), dtype=torch.float32).to(device)\n",
        "img = torch.tensor(np.load('x_test_wr.npy'), dtype=torch.float32).view((10000, 1, 28, 28)).to(device)\n",
        "\n",
        "best_model.eval()\n",
        "with torch.no_grad():\n",
        "  labels_np = torch.argmax(best_model(audio, img), dim=1).detach().cpu().numpy()\n",
        "\n",
        "  row_ids = np.arange(len(labels_np))\n",
        "  data = np.column_stack((row_ids, labels_np))\n",
        "  np.savetxt('submission.csv', data, fmt='%d', delimiter=',', header='row_id,label', comments='')"
      ],
      "metadata": {
        "id": "Zs1K-S2ntb7Z"
      },
      "execution_count": null,
      "outputs": []
    },
    {
      "cell_type": "code",
      "source": [
        "labels_np"
      ],
      "metadata": {
        "id": "ruuqEvdtJhwT"
      },
      "execution_count": null,
      "outputs": []
    },
    {
      "cell_type": "code",
      "source": [],
      "metadata": {
        "id": "dAfH7jyPJKsj"
      },
      "execution_count": null,
      "outputs": []
    }
  ]
}